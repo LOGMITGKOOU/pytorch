{
 "cells": [
  {
   "cell_type": "code",
   "execution_count": 2,
   "metadata": {},
   "outputs": [],
   "source": [
    "import torch\n",
    "import torchvision\n",
    "import torchvision.transforms as transforms"
   ]
  },
  {
   "cell_type": "markdown",
   "metadata": {},
   "source": [
    "# 1. 데이터셋 가져오기\n",
    "    torchvision에서 [-1, 1]로 정규화해 가져오기(MNIST)\n",
    "    (28x28 픽셀 이미지)"
   ]
  },
  {
   "cell_type": "code",
   "execution_count": 7,
   "metadata": {},
   "outputs": [],
   "source": [
    "transform=transforms.Compose(\n",
    "    [transforms.ToTensor(),\n",
    "     transforms.Normalize((0.1307,), (0.3081,))]) #mean=0.1307, standard deviation=0.3081\n",
    "\n",
    "trainset=torchvision.datasets.MNIST(root='./data', train=True, download=True, transform=transform)\n",
    "\n",
    "trainloader=torch.utils.data.DataLoader(trainset, batch_size=4, shuffle=True, num_workers=2)\n",
    "\n",
    "testset=torchvision.datasets.MNIST(root='./data', train=False, download=True, transform=transform)\n",
    "\n",
    "testloader=torch.utils.data.DataLoader(testset, batch_size=4, shuffle=False, num_workers=2)\n",
    "\n",
    "classes=('0', '1', '2', '3', '4', '5', '6', '7', '8', '9')\n",
    "\n"
   ]
  },
  {
   "cell_type": "markdown",
   "metadata": {},
   "source": [
    "## Training data 출력해보기"
   ]
  },
  {
   "cell_type": "code",
   "execution_count": 8,
   "metadata": {},
   "outputs": [
    {
     "data": {
      "image/png": "[encoded data removed]",
      "text/plain": [
       "<Figure size 432x288 with 1 Axes>"
      ]
     },
     "metadata": {
      "needs_background": "light"
     },
     "output_type": "display_data"
    },
    {
     "name": "stdout",
     "output_type": "stream",
     "text": [
      "    5     3     8     1\n"
     ]
    }
   ],
   "source": [
    "import matplotlib.pyplot as plt\n",
    "import numpy as np\n",
    "\n",
    "def imshow(img):\n",
    "    img=img*0.3081 +0.1307 # unnormalize\n",
    "    npimg=img.numpy()\n",
    "    plt.imshow(np.transpose(npimg, (1, 2, 0)))\n",
    "    plt.show()\n",
    "    \n",
    "\n",
    "# get some random training images\n",
    "dataiter=iter(trainloader)\n",
    "images, labels=dataiter.next()\n",
    "\n",
    "# show images\n",
    "imshow(torchvision.utils.make_grid(images))\n",
    "# print labels\n",
    "print(' '.join('%5s' % classes[labels[j]] for j in range(4)))"
   ]
  },
  {
   "cell_type": "markdown",
   "metadata": {},
   "source": [
    "# 2. CNN 정의하기"
   ]
  },
  {
   "cell_type": "code",
   "execution_count": 12,
   "metadata": {},
   "outputs": [],
   "source": [
    "import torch.nn as nn\n",
    "import torch.nn.functional as F\n",
    "\n",
    "class Net(nn.Module):\n",
    "    def __init__(self):\n",
    "        super(Net, self).__init__()\n",
    "        # define convolution layers and pooling function\n",
    "        self.conv1=nn.Conv2d(1, 10, 5)  # 1 input image channel,  10 output channels, 5x5 square convolution\n",
    "        self.pool=nn.MaxPool2d(2, 2)  # maxpooling over a (2, 2) window\n",
    "        self.conv2=nn.Conv2d(10, 20, 5)  # 10 input channels, 20 output channels, 5x5 square convolution\n",
    "        \n",
    "        # define linear layers including output layer\n",
    "        self.fc1=nn.Linear(20*4*4, 150)\n",
    "        self.fc2=nn.Linear(150, 90)  # size of input=150, size of output=90\n",
    "        self.fc3=nn.Linear(90, 10)  # size of input=90, size of output=10=number of classes\n",
    "        \n",
    "    def forward(self, x):\n",
    "        x=self.pool(F.relu(self.conv1(x)))  # Conv Layer1-> ReLu -> Max Pooling\n",
    "        x=self.pool(F.relu(self.conv2(x)))  # Conv Layer2-> ReLu -> Max Pooling\n",
    "        x=x.view(-1, 20*4*4)  # reshape tensor for relu\n",
    "        x=F.relu(self.fc1(x))  # Linear Layer1-> ReLu\n",
    "        x=F.relu(self.fc2(x))  # Linear Layer2-> ReLu\n",
    "        x=self.fc3(x)  # Output Layer\n",
    "        return x  # return output\n",
    "    \n",
    "net=Net()\n",
    "        "
   ]
  },
  {
   "cell_type": "markdown",
   "metadata": {},
   "source": [
    "# 3. Loss function과 Optimizer 정의하기\n",
    "    Loss function: Classification Cross Entropy Loss\n",
    "    Optimizer: SGD with momentum"
   ]
  },
  {
   "cell_type": "code",
   "execution_count": 13,
   "metadata": {},
   "outputs": [],
   "source": [
    "import torch.optim as optim\n",
    "\n",
    "criterion=nn.CrossEntropyLoss()\n",
    "optimizer=optim.SGD(net.parameters(), lr=0.001, momentum=0.9)  # parameters of previously declared net"
   ]
  },
  {
   "cell_type": "markdown",
   "metadata": {},
   "source": [
    "# 4. Network 학습시키기"
   ]
  },
  {
   "cell_type": "code",
   "execution_count": 14,
   "metadata": {},
   "outputs": [
    {
     "name": "stdout",
     "output_type": "stream",
     "text": [
      "[1,  2000] loss: 0.785\n",
      "[1,  4000] loss: 0.186\n",
      "[1,  6000] loss: 0.133\n",
      "[1,  8000] loss: 0.118\n",
      "[1, 10000] loss: 0.099\n",
      "[1, 12000] loss: 0.079\n",
      "[1, 14000] loss: 0.080\n",
      "[2,  2000] loss: 0.057\n",
      "[2,  4000] loss: 0.058\n",
      "[2,  6000] loss: 0.048\n",
      "[2,  8000] loss: 0.058\n",
      "[2, 10000] loss: 0.057\n",
      "[2, 12000] loss: 0.053\n",
      "[2, 14000] loss: 0.046\n",
      "[3,  2000] loss: 0.036\n",
      "[3,  4000] loss: 0.031\n",
      "[3,  6000] loss: 0.037\n",
      "[3,  8000] loss: 0.038\n",
      "[3, 10000] loss: 0.045\n",
      "[3, 12000] loss: 0.034\n",
      "[3, 14000] loss: 0.034\n",
      "Finished Training\n"
     ]
    }
   ],
   "source": [
    "for epoch in range(3):  # loop\n",
    "    \n",
    "    running_loss=0.0\n",
    "    for i, data in enumerate(trainloader, 0):\n",
    "        # get the inputs\n",
    "        inputs, labels=data\n",
    "        \n",
    "        # zero the parameter gradients\n",
    "        optimizer.zero_grad()\n",
    "        \n",
    "        # forward + backward + optimize\n",
    "        outputs=net(inputs)  # forward propagation\n",
    "        loss=criterion(outputs, labels)  # compute loss\n",
    "        loss.backward()  # backward propagation (compute gradient)\n",
    "        optimizer.step()  # update parameters\n",
    "        \n",
    "        # print statistics\n",
    "        running_loss+=loss.item()\n",
    "        if i % 2000 == 1999:  # print every 2000 mini-batches\n",
    "            print('[%d, %5d] loss: %.3f' %\n",
    "                  (epoch+1, i+1, running_loss/2000))\n",
    "            running_loss=0.0\n",
    "            \n",
    "print('Finished Training')"
   ]
  },
  {
   "cell_type": "markdown",
   "metadata": {},
   "source": [
    "# 5. Test data에 성능 평가하기"
   ]
  },
  {
   "cell_type": "markdown",
   "metadata": {},
   "source": [
    "## Test data 이미지 출력해보기"
   ]
  },
  {
   "cell_type": "code",
   "execution_count": 15,
   "metadata": {},
   "outputs": [
    {
     "data": {
      "image/png": "[encoded data removed]",
      "text/plain": [
       "<Figure size 432x288 with 1 Axes>"
      ]
     },
     "metadata": {
      "needs_background": "light"
     },
     "output_type": "display_data"
    },
    {
     "name": "stdout",
     "output_type": "stream",
     "text": [
      "GroundTruth:  7 2 1 0\n"
     ]
    }
   ],
   "source": [
    "dataiter=iter(testloader)\n",
    "images, labels=dataiter.next()\n",
    "\n",
    "# print images\n",
    "imshow(torchvision.utils.make_grid(images))\n",
    "print('GroundTruth: ', ' '.join('%s' % classes [labels[j]] for j in range(4)))"
   ]
  },
  {
   "cell_type": "code",
   "execution_count": 16,
   "metadata": {},
   "outputs": [
    {
     "name": "stdout",
     "output_type": "stream",
     "text": [
      "Accuracy of the network on the test images: 98 %\n"
     ]
    }
   ],
   "source": [
    "correct=0\n",
    "total=0\n",
    "with torch.no_grad():\n",
    "    for data in testloader:\n",
    "        images, labels=data\n",
    "        outputs=net(images)\n",
    "        _, predicted=torch.max(outputs.data, 1)\n",
    "        total+=labels.size(0)\n",
    "        correct+=(predicted == labels).sum().item()\n",
    "        \n",
    "print('Accuracy of the network on the test images: %d %%' % (100*correct/total))"
   ]
  },
  {
   "cell_type": "code",
   "execution_count": 18,
   "metadata": {},
   "outputs": [
    {
     "name": "stdout",
     "output_type": "stream",
     "text": [
      "Accuracy of 0 : 99 %\n",
      "Accuracy of 1 : 99 %\n",
      "Accuracy of 2 : 99 %\n",
      "Accuracy of 3 : 98 %\n",
      "Accuracy of 4 : 98 %\n",
      "Accuracy of 5 : 98 %\n",
      "Accuracy of 6 : 98 %\n",
      "Accuracy of 7 : 98 %\n",
      "Accuracy of 8 : 99 %\n",
      "Accuracy of 9 : 97 %\n"
     ]
    }
   ],
   "source": [
    "class_correct=list(0. for i in range(10))  # number of correctly classified samples for each class\n",
    "class_total=list(0. for i in range(10))  # total number of samples for each class\n",
    "with torch.no_grad():\n",
    "    for data in testloader:\n",
    "        images, labels=data\n",
    "        outputs=net(images)\n",
    "        _, predicted=torch.max(outputs, 1)\n",
    "        c=(predicted == labels).squeeze()\n",
    "        for i in range(4):\n",
    "            label=labels[i]\n",
    "            class_correct[label]+=c[i].item()\n",
    "            class_total[label]+=1\n",
    "            \n",
    "            \n",
    "for i in range(10):\n",
    "    print('Accuracy of %s : %2d %%' % (classes[i], 100*class_correct[i]/class_total[i]))"
   ]
  },
  {
   "cell_type": "code",
   "execution_count": null,
   "metadata": {},
   "outputs": [],
   "source": []
  }
 ],
 "metadata": {
  "kernelspec": {
   "display_name": "Python 3",
   "language": "python",
   "name": "python3"
  },
  "language_info": {
   "codemirror_mode": {
    "name": "ipython",
    "version": 3
   },
   "file_extension": ".py",
   "mimetype": "text/x-python",
   "name": "python",
   "nbconvert_exporter": "python",
   "pygments_lexer": "ipython3",
   "version": "3.7.0"
  }
 },
 "nbformat": 4,
 "nbformat_minor": 2
}
